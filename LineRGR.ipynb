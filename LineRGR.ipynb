{
  "nbformat": 4,
  "nbformat_minor": 0,
  "metadata": {
    "colab": {
      "name": "LineRGR.ipynb",
      "provenance": [],
      "collapsed_sections": []
    },
    "kernelspec": {
      "display_name": "Python 3",
      "language": "python",
      "name": "python3"
    },
    "language_info": {
      "codemirror_mode": {
        "name": "ipython",
        "version": 3
      },
      "file_extension": ".py",
      "mimetype": "text/x-python",
      "name": "python",
      "nbconvert_exporter": "python",
      "pygments_lexer": "ipython3",
      "version": "3.7.3"
    }
  },
  "cells": [
    {
      "cell_type": "markdown",
      "metadata": {
        "id": "j5JiN1TNw_R3"
      },
      "source": [
        "#**LINEAR REGRESSION** Michael Julian Peter"
      ]
    },
    {
      "cell_type": "markdown",
      "metadata": {
        "id": "RK94BVYZxbDU"
      },
      "source": [
        "***1. Import library***"
      ]
    },
    {
      "cell_type": "code",
      "metadata": {
        "id": "-51aVapXw9Jr"
      },
      "source": [
        "import matplotlib.pyplot as plt\n",
        "import numpy as np\n",
        "import pandas as pd\n",
        "\n",
        "from sklearn import datasets\n",
        "from sklearn.model_selection import cross_val_score, train_test_split, GridSearchCV\n",
        "from sklearn.linear_model import LinearRegression, Lasso, SGDRegressor, Ridge\n",
        "from sklearn.metrics import mean_squared_error, r2_score, accuracy_score"
      ],
      "execution_count": null,
      "outputs": []
    },
    {
      "cell_type": "markdown",
      "metadata": {
        "id": "x5igzofTxotR"
      },
      "source": [
        "***2. Load dataset diabetes dari sklearn***"
      ]
    },
    {
      "cell_type": "code",
      "metadata": {
        "id": "C-u5FfWz0UOw"
      },
      "source": [
        "diabetes = datasets.load_diabetes()"
      ],
      "execution_count": null,
      "outputs": []
    },
    {
      "cell_type": "code",
      "metadata": {
        "id": "c2P6XjMdPPmI",
        "colab": {
          "base_uri": "https://localhost:8080/",
          "height": 195
        },
        "outputId": "02b8cf8d-ddab-40c7-be8d-1d3c2ac7dfb7"
      },
      "source": [
        "df_diabaetes = pd.DataFrame(np.c_[diabetes['data'], diabetes['target']], \n",
        "                            columns = np.append(diabetes['feature_names'], ['target']))\n",
        "df_diabaetes.head()"
      ],
      "execution_count": null,
      "outputs": [
        {
          "output_type": "execute_result",
          "data": {
            "text/html": [
              "<div>\n",
              "<style scoped>\n",
              "    .dataframe tbody tr th:only-of-type {\n",
              "        vertical-align: middle;\n",
              "    }\n",
              "\n",
              "    .dataframe tbody tr th {\n",
              "        vertical-align: top;\n",
              "    }\n",
              "\n",
              "    .dataframe thead th {\n",
              "        text-align: right;\n",
              "    }\n",
              "</style>\n",
              "<table border=\"1\" class=\"dataframe\">\n",
              "  <thead>\n",
              "    <tr style=\"text-align: right;\">\n",
              "      <th></th>\n",
              "      <th>age</th>\n",
              "      <th>sex</th>\n",
              "      <th>bmi</th>\n",
              "      <th>bp</th>\n",
              "      <th>s1</th>\n",
              "      <th>s2</th>\n",
              "      <th>s3</th>\n",
              "      <th>s4</th>\n",
              "      <th>s5</th>\n",
              "      <th>s6</th>\n",
              "      <th>target</th>\n",
              "    </tr>\n",
              "  </thead>\n",
              "  <tbody>\n",
              "    <tr>\n",
              "      <th>0</th>\n",
              "      <td>0.038076</td>\n",
              "      <td>0.050680</td>\n",
              "      <td>0.061696</td>\n",
              "      <td>0.021872</td>\n",
              "      <td>-0.044223</td>\n",
              "      <td>-0.034821</td>\n",
              "      <td>-0.043401</td>\n",
              "      <td>-0.002592</td>\n",
              "      <td>0.019908</td>\n",
              "      <td>-0.017646</td>\n",
              "      <td>151.0</td>\n",
              "    </tr>\n",
              "    <tr>\n",
              "      <th>1</th>\n",
              "      <td>-0.001882</td>\n",
              "      <td>-0.044642</td>\n",
              "      <td>-0.051474</td>\n",
              "      <td>-0.026328</td>\n",
              "      <td>-0.008449</td>\n",
              "      <td>-0.019163</td>\n",
              "      <td>0.074412</td>\n",
              "      <td>-0.039493</td>\n",
              "      <td>-0.068330</td>\n",
              "      <td>-0.092204</td>\n",
              "      <td>75.0</td>\n",
              "    </tr>\n",
              "    <tr>\n",
              "      <th>2</th>\n",
              "      <td>0.085299</td>\n",
              "      <td>0.050680</td>\n",
              "      <td>0.044451</td>\n",
              "      <td>-0.005671</td>\n",
              "      <td>-0.045599</td>\n",
              "      <td>-0.034194</td>\n",
              "      <td>-0.032356</td>\n",
              "      <td>-0.002592</td>\n",
              "      <td>0.002864</td>\n",
              "      <td>-0.025930</td>\n",
              "      <td>141.0</td>\n",
              "    </tr>\n",
              "    <tr>\n",
              "      <th>3</th>\n",
              "      <td>-0.089063</td>\n",
              "      <td>-0.044642</td>\n",
              "      <td>-0.011595</td>\n",
              "      <td>-0.036656</td>\n",
              "      <td>0.012191</td>\n",
              "      <td>0.024991</td>\n",
              "      <td>-0.036038</td>\n",
              "      <td>0.034309</td>\n",
              "      <td>0.022692</td>\n",
              "      <td>-0.009362</td>\n",
              "      <td>206.0</td>\n",
              "    </tr>\n",
              "    <tr>\n",
              "      <th>4</th>\n",
              "      <td>0.005383</td>\n",
              "      <td>-0.044642</td>\n",
              "      <td>-0.036385</td>\n",
              "      <td>0.021872</td>\n",
              "      <td>0.003935</td>\n",
              "      <td>0.015596</td>\n",
              "      <td>0.008142</td>\n",
              "      <td>-0.002592</td>\n",
              "      <td>-0.031991</td>\n",
              "      <td>-0.046641</td>\n",
              "      <td>135.0</td>\n",
              "    </tr>\n",
              "  </tbody>\n",
              "</table>\n",
              "</div>"
            ],
            "text/plain": [
              "        age       sex       bmi        bp  ...        s4        s5        s6  target\n",
              "0  0.038076  0.050680  0.061696  0.021872  ... -0.002592  0.019908 -0.017646   151.0\n",
              "1 -0.001882 -0.044642 -0.051474 -0.026328  ... -0.039493 -0.068330 -0.092204    75.0\n",
              "2  0.085299  0.050680  0.044451 -0.005671  ... -0.002592  0.002864 -0.025930   141.0\n",
              "3 -0.089063 -0.044642 -0.011595 -0.036656  ...  0.034309  0.022692 -0.009362   206.0\n",
              "4  0.005383 -0.044642 -0.036385  0.021872  ... -0.002592 -0.031991 -0.046641   135.0\n",
              "\n",
              "[5 rows x 11 columns]"
            ]
          },
          "metadata": {
            "tags": []
          },
          "execution_count": 45
        }
      ]
    },
    {
      "cell_type": "markdown",
      "metadata": {
        "id": "eg4zKxD_ycyd"
      },
      "source": [
        "***3. Membagi dataset menjadi X dan Y***"
      ]
    },
    {
      "cell_type": "code",
      "metadata": {
        "id": "GTXt4QLGtd9f",
        "colab": {
          "base_uri": "https://localhost:8080/",
          "height": 34
        },
        "outputId": "9f31e4ec-af10-4a38-c048-c8fde8aff480"
      },
      "source": [
        "X = diabetes.data[:, np.newaxis, 2]\n",
        "Y = diabetes.target\n",
        "print(X.shape)"
      ],
      "execution_count": null,
      "outputs": [
        {
          "output_type": "stream",
          "text": [
            "(442, 1)\n"
          ],
          "name": "stdout"
        }
      ]
    },
    {
      "cell_type": "markdown",
      "metadata": {
        "id": "GHPIOVGRygKY"
      },
      "source": [
        "***4. Membagi X dan Y untuk train dan test***"
      ]
    },
    {
      "cell_type": "code",
      "metadata": {
        "id": "OXdKcw2ayZ6Z"
      },
      "source": [
        "X_train, X_test, y_train, y_test = train_test_split(X, Y, test_size=0.25, random_state=0)"
      ],
      "execution_count": null,
      "outputs": []
    },
    {
      "cell_type": "markdown",
      "metadata": {
        "id": "zd8qe5Ic3jAd"
      },
      "source": [
        "***5. Membuat fungsi cross validation***"
      ]
    },
    {
      "cell_type": "code",
      "metadata": {
        "id": "WCSlm45v3mlo"
      },
      "source": [
        "def get_cv(model):\n",
        "    scores = cross_val_score(model,\n",
        "                             X_train,\n",
        "                             y_train,\n",
        "                             cv=5,\n",
        "                             scoring='r2')\n",
        "    \n",
        "    \n",
        "    print('CV = ', scores)\n",
        "    print('CV Mean: ', np.mean(scores))\n",
        "    print('STD: ', np.std(scores))"
      ],
      "execution_count": null,
      "outputs": []
    },
    {
      "cell_type": "markdown",
      "metadata": {
        "id": "S4rLwWg5Opgp"
      },
      "source": [
        "# **Linear Regression**"
      ]
    },
    {
      "cell_type": "markdown",
      "metadata": {
        "id": "XU0dHQQzmqzn"
      },
      "source": [
        "***1. Menjalankan fungsi ordinary least square***"
      ]
    },
    {
      "cell_type": "code",
      "metadata": {
        "id": "2rYcb4393tZq",
        "colab": {
          "base_uri": "https://localhost:8080/",
          "height": 70
        },
        "outputId": "9cb46368-d5a4-4748-8962-a3c5344b66fd"
      },
      "source": [
        "lnr_rgr = LinearRegression()\n",
        "lnr_rgr.fit(X_train, y_train)\n",
        "y_pred = lnr_rgr.predict(X_test)\n",
        "\n",
        "get_cv(lnr_rgr)"
      ],
      "execution_count": null,
      "outputs": [
        {
          "output_type": "stream",
          "text": [
            "CV =  [0.45169847 0.2866743  0.38279011 0.44828348 0.33979567]\n",
            "CV Mean:  0.3818484068758865\n",
            "STD:  0.06343513418327842\n"
          ],
          "name": "stdout"
        }
      ]
    },
    {
      "cell_type": "markdown",
      "metadata": {
        "id": "YJrKzD90mwGS"
      },
      "source": [
        "***2. Plotting menggunakan ordinary least square***"
      ]
    },
    {
      "cell_type": "code",
      "metadata": {
        "id": "n4n-lira6fAu",
        "colab": {
          "base_uri": "https://localhost:8080/",
          "height": 296
        },
        "outputId": "516a2477-c40f-4357-95e9-411e79be97f5"
      },
      "source": [
        "plt.scatter(X_test, y_test,  color='blue')\n",
        "plt.plot(X_test, y_pred, color='red', linewidth=3)\n",
        "plt.title('Ordinary Least Square')\n",
        "plt.xlabel('X_test')\n",
        "plt.ylabel('y_pred')\n",
        "plt.show()"
      ],
      "execution_count": null,
      "outputs": [
        {
          "output_type": "display_data",
          "data": {
            "image/png": "[encoded data removed]",
            "text/plain": [
              "<Figure size 432x288 with 1 Axes>"
            ]
          },
          "metadata": {
            "tags": []
          }
        }
      ]
    },
    {
      "cell_type": "markdown",
      "metadata": {
        "id": "D41Wf0lvPBRy"
      },
      "source": [
        "# **Lasso Model**"
      ]
    },
    {
      "cell_type": "markdown",
      "metadata": {
        "id": "eql3t0CoiB8l"
      },
      "source": [
        "***1. Menjalankan fungsi lasso***"
      ]
    },
    {
      "cell_type": "code",
      "metadata": {
        "id": "BJP05mfJ5Bly",
        "colab": {
          "base_uri": "https://localhost:8080/",
          "height": 70
        },
        "outputId": "48449455-7b43-4ce9-bb08-6d6eaefdb5b5"
      },
      "source": [
        "lasso = Lasso(alpha=1)\n",
        "lasso.fit(X_train, y_train)\n",
        "get_cv(lasso)"
      ],
      "execution_count": null,
      "outputs": [
        {
          "output_type": "stream",
          "text": [
            "CV =  [0.37585082 0.31484595 0.28611364 0.34958659 0.26774444]\n",
            "CV Mean:  0.31882828815326714\n",
            "STD:  0.03973237413507437\n"
          ],
          "name": "stdout"
        }
      ]
    },
    {
      "cell_type": "markdown",
      "metadata": {
        "id": "-myxOedWhyCT"
      },
      "source": [
        "***2. Mencari alpha terbaik***"
      ]
    },
    {
      "cell_type": "code",
      "metadata": {
        "id": "uI27lLSeR9SF",
        "colab": {
          "base_uri": "https://localhost:8080/",
          "height": 105
        },
        "outputId": "e26ad959-694f-4685-fc72-81347fb2f5f2"
      },
      "source": [
        "alpha = [0.00001, 0.0001, 0.001, 0.01, 0.1, 1, 10, 100, 1000]\n",
        "param_grid = dict(alpha=alpha)\n",
        "\n",
        "grid = GridSearchCV(estimator=lasso, param_grid=param_grid, scoring='r2', verbose=1, n_jobs=-1)\n",
        "grid_result = grid.fit(X_train, y_train)\n",
        "\n",
        "print('Best Score: ', grid_result.best_score_)\n",
        "print('Best Params: ', grid_result.best_params_)"
      ],
      "execution_count": null,
      "outputs": [
        {
          "output_type": "stream",
          "text": [
            "Fitting 5 folds for each of 9 candidates, totalling 45 fits\n"
          ],
          "name": "stdout"
        },
        {
          "output_type": "stream",
          "text": [
            "[Parallel(n_jobs=-1)]: Using backend LokyBackend with 2 concurrent workers.\n"
          ],
          "name": "stderr"
        },
        {
          "output_type": "stream",
          "text": [
            "Best Score:  0.3820354194987357\n",
            "Best Params:  {'alpha': 0.1}\n"
          ],
          "name": "stdout"
        },
        {
          "output_type": "stream",
          "text": [
            "[Parallel(n_jobs=-1)]: Done  45 out of  45 | elapsed:    1.0s finished\n"
          ],
          "name": "stderr"
        }
      ]
    },
    {
      "cell_type": "markdown",
      "metadata": {
        "id": "ZYRx6yWHia-h"
      },
      "source": [
        "***3. Plotting menggunakan alpha terbaik***"
      ]
    },
    {
      "cell_type": "code",
      "metadata": {
        "id": "PK9dOQ68hPiK",
        "colab": {
          "base_uri": "https://localhost:8080/",
          "height": 296
        },
        "outputId": "51436b4a-cf6c-467c-c93b-36803b1f65cf"
      },
      "source": [
        "lasso = Lasso(alpha=0.1)\n",
        "lasso.fit(X_train, y_train)\n",
        "y_predLasso = lasso.predict(X_test)\n",
        "\n",
        "plt.scatter(X_test, y_test,  color='blue')\n",
        "plt.plot(X_test, y_predLasso, color='orange', linewidth=3)\n",
        "plt.title('Lasso')\n",
        "plt.xlabel('X_test')\n",
        "plt.ylabel('y_predLasso')\n",
        "plt.show()"
      ],
      "execution_count": null,
      "outputs": [
        {
          "output_type": "display_data",
          "data": {
            "image/png": "[encoded data removed]",
            "text/plain": [
              "<Figure size 432x288 with 1 Axes>"
            ]
          },
          "metadata": {
            "tags": []
          }
        }
      ]
    },
    {
      "cell_type": "markdown",
      "metadata": {
        "id": "Snhdrkd-Pu5r"
      },
      "source": [
        "# **SGD Regressor**"
      ]
    },
    {
      "cell_type": "markdown",
      "metadata": {
        "id": "I8mOKGdIl8jR"
      },
      "source": [
        "***1. Membuat fungsi SGD regressor***"
      ]
    },
    {
      "cell_type": "code",
      "metadata": {
        "id": "WFdIJeslkmUM",
        "colab": {
          "base_uri": "https://localhost:8080/",
          "height": 195
        },
        "outputId": "e1fb8f76-f2ce-4367-b2a2-786996e85244"
      },
      "source": [
        "SGDrgr = SGDRegressor(max_iter=10000)\n",
        "SGDrgr.fit(X_train, y_train)\n",
        "y_predSGD = regr.predict(X_test)\n",
        "\n",
        "get_cv(SGDrgr)"
      ],
      "execution_count": null,
      "outputs": [
        {
          "output_type": "stream",
          "text": [
            "/usr/local/lib/python3.6/dist-packages/sklearn/linear_model/_stochastic_gradient.py:1187: ConvergenceWarning: Maximum number of iteration reached before convergence. Consider increasing max_iter to improve the fit.\n",
            "  ConvergenceWarning)\n",
            "/usr/local/lib/python3.6/dist-packages/sklearn/linear_model/_stochastic_gradient.py:1187: ConvergenceWarning: Maximum number of iteration reached before convergence. Consider increasing max_iter to improve the fit.\n",
            "  ConvergenceWarning)\n"
          ],
          "name": "stderr"
        },
        {
          "output_type": "stream",
          "text": [
            "CV =  [0.44330646 0.326723   0.35731486 0.42839308 0.32549956]\n",
            "CV Mean:  0.37624739268609364\n",
            "STD:  0.050204659191282267\n"
          ],
          "name": "stdout"
        },
        {
          "output_type": "stream",
          "text": [
            "/usr/local/lib/python3.6/dist-packages/sklearn/linear_model/_stochastic_gradient.py:1187: ConvergenceWarning: Maximum number of iteration reached before convergence. Consider increasing max_iter to improve the fit.\n",
            "  ConvergenceWarning)\n"
          ],
          "name": "stderr"
        }
      ]
    },
    {
      "cell_type": "markdown",
      "metadata": {
        "id": "23pdKxgLl1_g"
      },
      "source": [
        "***2. Plotting menggunakan SGD Regressor***"
      ]
    },
    {
      "cell_type": "code",
      "metadata": {
        "id": "nDG4M4TYiszj",
        "colab": {
          "base_uri": "https://localhost:8080/",
          "height": 296
        },
        "outputId": "e791544c-dc8d-48aa-e1b4-a63c94d8e857"
      },
      "source": [
        "plt.scatter(X_test, y_test,  color='blue')\n",
        "plt.plot(X_test, y_predSGD, color='green', linewidth=3)\n",
        "plt.title('SGD Regressor')\n",
        "plt.xlabel('X_test')\n",
        "plt.ylabel('y_predSGD')\n",
        "plt.show()"
      ],
      "execution_count": null,
      "outputs": [
        {
          "output_type": "display_data",
          "data": {
            "image/png": "[encoded data removed]",
            "text/plain": [
              "<Figure size 432x288 with 1 Axes>"
            ]
          },
          "metadata": {
            "tags": []
          }
        }
      ]
    },
    {
      "cell_type": "markdown",
      "metadata": {
        "id": "AsngzyIV2Wna"
      },
      "source": [
        "# **Ridge Regression**"
      ]
    },
    {
      "cell_type": "markdown",
      "metadata": {
        "id": "C52J79RAn2tU"
      },
      "source": [
        "***1. Menjalankan fungsi ridge***"
      ]
    },
    {
      "cell_type": "code",
      "metadata": {
        "id": "ZDkaJxNd1_xQ",
        "colab": {
          "base_uri": "https://localhost:8080/",
          "height": 70
        },
        "outputId": "99cd3128-146a-421c-b7f8-8305212952e8"
      },
      "source": [
        "ridge = Ridge(alpha=1)\n",
        "get_cv(ridge)"
      ],
      "execution_count": null,
      "outputs": [
        {
          "output_type": "stream",
          "text": [
            "CV =  [0.2822878  0.2452495  0.20904864 0.25671377 0.19857479]\n",
            "CV Mean:  0.2383749003042941\n",
            "STD:  0.03084151525901729\n"
          ],
          "name": "stdout"
        }
      ]
    },
    {
      "cell_type": "markdown",
      "metadata": {
        "id": "Mdr_AXinn5Uh"
      },
      "source": [
        "***2. Mencari alpha terbaik***"
      ]
    },
    {
      "cell_type": "code",
      "metadata": {
        "id": "6ugseLk62Rcr",
        "colab": {
          "base_uri": "https://localhost:8080/",
          "height": 105
        },
        "outputId": "5d2f8693-0d37-404e-adc6-d2100289fccc"
      },
      "source": [
        "alpha = [0.001, 0.01, 0.1, 1, 10, 100, 1000]\n",
        "param_grid = dict(alpha=alpha)\n",
        "\n",
        "grid = GridSearchCV(estimator=ridge, param_grid=param_grid, scoring='r2', verbose=1, n_jobs=-1)\n",
        "grid_result = grid.fit(X_train, y_train)\n",
        "\n",
        "print('Best Score: ', grid_result.best_score_)\n",
        "print('Best Params: ', grid_result.best_params_)"
      ],
      "execution_count": null,
      "outputs": [
        {
          "output_type": "stream",
          "text": [
            "Fitting 5 folds for each of 7 candidates, totalling 35 fits\n",
            "Best Score:  0.3821912016052864\n",
            "Best Params:  {'alpha': 0.01}\n"
          ],
          "name": "stdout"
        },
        {
          "output_type": "stream",
          "text": [
            "[Parallel(n_jobs=-1)]: Using backend LokyBackend with 2 concurrent workers.\n",
            "[Parallel(n_jobs=-1)]: Done  35 out of  35 | elapsed:    0.1s finished\n"
          ],
          "name": "stderr"
        }
      ]
    },
    {
      "cell_type": "markdown",
      "metadata": {
        "id": "yy42yDuWn7oO"
      },
      "source": [
        "***3. Plotting dengan alpha terbaik***"
      ]
    },
    {
      "cell_type": "code",
      "metadata": {
        "id": "oLh8x4GQoEoP",
        "colab": {
          "base_uri": "https://localhost:8080/",
          "height": 296
        },
        "outputId": "e133818b-5284-4aa3-d4a2-273a3c5019c6"
      },
      "source": [
        "ridge = Ridge(alpha=0.01)\n",
        "ridge.fit(X_train, y_train)\n",
        "y_predRidge = ridge.predict(X_test)\n",
        "\n",
        "plt.scatter(X_test, y_test,  color='blue')\n",
        "plt.plot(X_test, y_predRidge, color='purple', linewidth=3)\n",
        "plt.title('Ridge Regression')\n",
        "plt.xlabel('X_test')\n",
        "plt.ylabel('y_predRidge')\n",
        "plt.show()"
      ],
      "execution_count": null,
      "outputs": [
        {
          "output_type": "display_data",
          "data": {
            "image/png": "[encoded data removed]",
            "text/plain": [
              "<Figure size 432x288 with 1 Axes>"
            ]
          },
          "metadata": {
            "tags": []
          }
        }
      ]
    },
    {
      "cell_type": "markdown",
      "metadata": {
        "id": "4o-GUekmpBPF"
      },
      "source": [
        "*Melalui 4 metode diatas, didapatkan hasil plottingan yang hampir sama karena menghasilkan score R2 (Best Score) sekitar 0.38*"
      ]
    },
    {
      "cell_type": "code",
      "metadata": {
        "id": "Und3orjV8b9Y"
      },
      "source": [
        ""
      ],
      "execution_count": null,
      "outputs": []
    }
  ]
}